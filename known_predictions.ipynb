{
 "cells": [
  {
   "cell_type": "code",
   "execution_count": 1,
   "id": "f4753843-c3ca-41b3-bfce-8ac6518c534b",
   "metadata": {
    "tags": []
   },
   "outputs": [],
   "source": [
    "import pickle\n",
    "with open(\"t1_known_predictions.pickle\", \"rb\") as f:\n",
    "    predictions = pickle.load(f)"
   ]
  },
  {
   "cell_type": "code",
   "execution_count": 2,
   "id": "9b8b43a2-7441-4b82-8580-8a7b02721613",
   "metadata": {
    "tags": []
   },
   "outputs": [],
   "source": [
    "import pandas as pd"
   ]
  },
  {
   "cell_type": "code",
   "execution_count": 3,
   "id": "2033574e-a6a4-43fc-9a0c-7aca9065d2e5",
   "metadata": {
    "tags": []
   },
   "outputs": [],
   "source": [
    "chairs = predictions.get(8, [\"\"])"
   ]
  },
  {
   "cell_type": "code",
   "execution_count": 4,
   "id": "24e09356-2353-4776-9bcc-6deb0bb059a8",
   "metadata": {
    "tags": []
   },
   "outputs": [],
   "source": [
    "people = predictions.get(14, [\"\"])"
   ]
  },
  {
   "cell_type": "code",
   "execution_count": 15,
   "id": "25e4643b-818b-48fe-a345-5c32c2962e98",
   "metadata": {
    "tags": []
   },
   "outputs": [],
   "source": [
    "chair_ids = [x.split(\" \")[0] for x in chairs]\n",
    "chair_scores = [float(x.split(\" \")[1]) for x in chairs]\n",
    "chair_boxes = [x.split(\" \")[2:] for x in chairs]\n",
    "chair_xmin = [float(x[0]) for x in chair_boxes]\n",
    "chair_ymin = [float(x[1]) for x in chair_boxes]\n",
    "chair_xmax = [float(x[2]) for x in chair_boxes]\n",
    "chair_ymax = [float(x[3]) for x in chair_boxes]\n",
    "chair_labels = [\"chair\"] * len(chair_ids)"
   ]
  },
  {
   "cell_type": "code",
   "execution_count": 16,
   "id": "a2a0c2bd-a324-4607-a127-8c0656b5a9ec",
   "metadata": {
    "tags": []
   },
   "outputs": [],
   "source": [
    "p_ids = [x.split(\" \")[0] for x in people]\n",
    "p_scores = [float(x.split(\" \")[1]) for x in people]\n",
    "p_boxes = [x.split(\" \")[2:] for x in people]\n",
    "p_xmin = [float(x[0]) for x in p_boxes]\n",
    "p_ymin = [float(x[1]) for x in p_boxes]\n",
    "p_xmax = [float(x[2]) for x in p_boxes]\n",
    "p_ymax = [float(x[3]) for x in p_boxes]\n",
    "p_labels = [\"people\"] * len(p_ids)"
   ]
  },
  {
   "cell_type": "code",
   "execution_count": 17,
   "id": "f8094271-b4f6-494b-bdba-e5f2da7e0939",
   "metadata": {
    "tags": []
   },
   "outputs": [],
   "source": [
    "df = pd.DataFrame()\n",
    "df[\"ids\"] = chair_ids + p_ids\n",
    "df[\"probs\"] = chair_scores + p_scores\n",
    "df[\"xmin\"] = chair_xmin + p_xmin\n",
    "df[\"ymin\"] = chair_ymin + p_ymin\n",
    "df[\"xmax\"] = chair_xmax + p_xmax\n",
    "df[\"ymax\"] = chair_ymax + p_ymax\n",
    "df[\"labels\"] = chair_labels + p_labels"
   ]
  },
  {
   "cell_type": "code",
   "execution_count": 18,
   "id": "cc62dd64-6d2b-4ec6-a819-dfd471414211",
   "metadata": {
    "tags": []
   },
   "outputs": [
    {
     "data": {
      "text/html": [
       "<div>\n",
       "<style scoped>\n",
       "    .dataframe tbody tr th:only-of-type {\n",
       "        vertical-align: middle;\n",
       "    }\n",
       "\n",
       "    .dataframe tbody tr th {\n",
       "        vertical-align: top;\n",
       "    }\n",
       "\n",
       "    .dataframe thead th {\n",
       "        text-align: right;\n",
       "    }\n",
       "</style>\n",
       "<table border=\"1\" class=\"dataframe\">\n",
       "  <thead>\n",
       "    <tr style=\"text-align: right;\">\n",
       "      <th></th>\n",
       "      <th>ids</th>\n",
       "      <th>probs</th>\n",
       "      <th>xmin</th>\n",
       "      <th>ymin</th>\n",
       "      <th>xmax</th>\n",
       "      <th>ymax</th>\n",
       "      <th>labels</th>\n",
       "    </tr>\n",
       "  </thead>\n",
       "  <tbody>\n",
       "    <tr>\n",
       "      <th>0</th>\n",
       "      <td>000000013659</td>\n",
       "      <td>0.912</td>\n",
       "      <td>366.8</td>\n",
       "      <td>288.5</td>\n",
       "      <td>488.8</td>\n",
       "      <td>480.0</td>\n",
       "      <td>chair</td>\n",
       "    </tr>\n",
       "    <tr>\n",
       "      <th>1</th>\n",
       "      <td>000000013659</td>\n",
       "      <td>0.774</td>\n",
       "      <td>479.5</td>\n",
       "      <td>175.7</td>\n",
       "      <td>587.2</td>\n",
       "      <td>323.5</td>\n",
       "      <td>chair</td>\n",
       "    </tr>\n",
       "    <tr>\n",
       "      <th>2</th>\n",
       "      <td>000000013659</td>\n",
       "      <td>0.502</td>\n",
       "      <td>190.3</td>\n",
       "      <td>127.2</td>\n",
       "      <td>261.0</td>\n",
       "      <td>199.9</td>\n",
       "      <td>chair</td>\n",
       "    </tr>\n",
       "    <tr>\n",
       "      <th>3</th>\n",
       "      <td>000000013659</td>\n",
       "      <td>0.382</td>\n",
       "      <td>286.8</td>\n",
       "      <td>217.2</td>\n",
       "      <td>329.3</td>\n",
       "      <td>312.3</td>\n",
       "      <td>chair</td>\n",
       "    </tr>\n",
       "    <tr>\n",
       "      <th>4</th>\n",
       "      <td>000000013659</td>\n",
       "      <td>0.347</td>\n",
       "      <td>305.5</td>\n",
       "      <td>146.4</td>\n",
       "      <td>400.9</td>\n",
       "      <td>255.8</td>\n",
       "      <td>chair</td>\n",
       "    </tr>\n",
       "    <tr>\n",
       "      <th>...</th>\n",
       "      <td>...</td>\n",
       "      <td>...</td>\n",
       "      <td>...</td>\n",
       "      <td>...</td>\n",
       "      <td>...</td>\n",
       "      <td>...</td>\n",
       "      <td>...</td>\n",
       "    </tr>\n",
       "    <tr>\n",
       "      <th>1321</th>\n",
       "      <td>000014</td>\n",
       "      <td>0.008</td>\n",
       "      <td>494.1</td>\n",
       "      <td>110.0</td>\n",
       "      <td>500.0</td>\n",
       "      <td>161.7</td>\n",
       "      <td>people</td>\n",
       "    </tr>\n",
       "    <tr>\n",
       "      <th>1322</th>\n",
       "      <td>000014</td>\n",
       "      <td>0.008</td>\n",
       "      <td>1.0</td>\n",
       "      <td>142.2</td>\n",
       "      <td>5.7</td>\n",
       "      <td>230.5</td>\n",
       "      <td>people</td>\n",
       "    </tr>\n",
       "    <tr>\n",
       "      <th>1323</th>\n",
       "      <td>000014</td>\n",
       "      <td>0.008</td>\n",
       "      <td>18.6</td>\n",
       "      <td>200.3</td>\n",
       "      <td>75.5</td>\n",
       "      <td>231.9</td>\n",
       "      <td>people</td>\n",
       "    </tr>\n",
       "    <tr>\n",
       "      <th>1324</th>\n",
       "      <td>000014</td>\n",
       "      <td>0.008</td>\n",
       "      <td>1.0</td>\n",
       "      <td>4.8</td>\n",
       "      <td>5.1</td>\n",
       "      <td>71.7</td>\n",
       "      <td>people</td>\n",
       "    </tr>\n",
       "    <tr>\n",
       "      <th>1325</th>\n",
       "      <td>000014</td>\n",
       "      <td>0.008</td>\n",
       "      <td>1.0</td>\n",
       "      <td>210.0</td>\n",
       "      <td>9.8</td>\n",
       "      <td>229.6</td>\n",
       "      <td>people</td>\n",
       "    </tr>\n",
       "  </tbody>\n",
       "</table>\n",
       "<p>1326 rows × 7 columns</p>\n",
       "</div>"
      ],
      "text/plain": [
       "               ids  probs   xmin   ymin   xmax   ymax  labels\n",
       "0     000000013659  0.912  366.8  288.5  488.8  480.0   chair\n",
       "1     000000013659  0.774  479.5  175.7  587.2  323.5   chair\n",
       "2     000000013659  0.502  190.3  127.2  261.0  199.9   chair\n",
       "3     000000013659  0.382  286.8  217.2  329.3  312.3   chair\n",
       "4     000000013659  0.347  305.5  146.4  400.9  255.8   chair\n",
       "...            ...    ...    ...    ...    ...    ...     ...\n",
       "1321        000014  0.008  494.1  110.0  500.0  161.7  people\n",
       "1322        000014  0.008    1.0  142.2    5.7  230.5  people\n",
       "1323        000014  0.008   18.6  200.3   75.5  231.9  people\n",
       "1324        000014  0.008    1.0    4.8    5.1   71.7  people\n",
       "1325        000014  0.008    1.0  210.0    9.8  229.6  people\n",
       "\n",
       "[1326 rows x 7 columns]"
      ]
     },
     "execution_count": 18,
     "metadata": {},
     "output_type": "execute_result"
    }
   ],
   "source": [
    "df"
   ]
  },
  {
   "cell_type": "code",
   "execution_count": 19,
   "id": "d4ccc694-99c5-4e2e-ace7-b7eec488cc09",
   "metadata": {
    "tags": []
   },
   "outputs": [],
   "source": [
    "df.to_csv(\"t1_known_predictions_image.csv\")"
   ]
  }
 ],
 "metadata": {
  "kernelspec": {
   "display_name": "Python 3 (ipykernel)",
   "language": "python",
   "name": "python3"
  },
  "language_info": {
   "codemirror_mode": {
    "name": "ipython",
    "version": 3
   },
   "file_extension": ".py",
   "mimetype": "text/x-python",
   "name": "python",
   "nbconvert_exporter": "python",
   "pygments_lexer": "ipython3",
   "version": "3.7.15"
  }
 },
 "nbformat": 4,
 "nbformat_minor": 5
}
