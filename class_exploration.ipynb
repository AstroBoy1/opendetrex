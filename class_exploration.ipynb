{
 "cells": [
  {
   "cell_type": "code",
   "execution_count": 21,
   "id": "bd5101f3-5f27-473c-a347-60c2c9008aea",
   "metadata": {
    "tags": []
   },
   "outputs": [],
   "source": [
    "import numpy as np\n",
    "import os\n",
    "import xml.etree.ElementTree as ET\n",
    "from typing import List, Tuple, Union\n",
    "from collections import defaultdict\n",
    "from detectron2.utils.file_io import PathManager\n",
    "import itertools\n",
    "import seaborn as sns\n",
    "\n",
    "CLASS_NAMES = (\n",
    "    \"aeroplane\", \"bicycle\", \"bird\", \"boat\", \"bottle\", \"bus\", \"car\", \"cat\",\n",
    "    \"chair\", \"cow\", \"diningtable\", \"dog\", \"horse\", \"motorbike\", \"person\",\n",
    "    \"pottedplant\", \"sheep\", \"sofa\", \"train\", \"tvmonitor\"\n",
    ")\n",
    "\n",
    "UNK_CLASS = [\"unknown\"]\n",
    "\n",
    "VOC_CLASS_NAMES = [\n",
    "\"aeroplane\", \"bicycle\", \"bird\", \"boat\", \"bottle\", \"bus\", \"car\", \"cat\",\n",
    "\"chair\", \"cow\", \"diningtable\", \"dog\", \"horse\", \"motorbike\", \"person\",\n",
    "\"pottedplant\", \"sheep\", \"sofa\", \"train\", \"tvmonitor\"\n",
    "]\n",
    "\n",
    "VOC_CLASS_NAMES_COCOFIED = [\n",
    "    \"airplane\",  \"dining table\", \"motorcycle\",\n",
    "    \"potted plant\", \"couch\", \"tv\"\n",
    "]\n",
    "\n",
    "BASE_VOC_CLASS_NAMES = [\n",
    "    \"aeroplane\", \"diningtable\", \"motorbike\",\n",
    "    \"pottedplant\",  \"sofa\", \"tvmonitor\"\n",
    "]\n",
    "\n",
    "T2_CLASS_NAMES = [\n",
    "    \"truck\", \"traffic light\", \"fire hydrant\", \"stop sign\", \"parking meter\",\n",
    "    \"bench\", \"elephant\", \"bear\", \"zebra\", \"giraffe\",\n",
    "    \"backpack\", \"umbrella\", \"handbag\", \"tie\", \"suitcase\",\n",
    "    \"microwave\", \"oven\", \"toaster\", \"sink\", \"refrigerator\"\n",
    "]\n",
    "\n",
    "T3_CLASS_NAMES = [\n",
    "    \"frisbee\", \"skis\", \"snowboard\", \"sports ball\", \"kite\",\n",
    "    \"baseball bat\", \"baseball glove\", \"skateboard\", \"surfboard\", \"tennis racket\",\n",
    "    \"banana\", \"apple\", \"sandwich\", \"orange\", \"broccoli\",\n",
    "    \"carrot\", \"hot dog\", \"pizza\", \"donut\", \"cake\"\n",
    "]\n",
    "\n",
    "T4_CLASS_NAMES = [\n",
    "    \"bed\", \"toilet\", \"laptop\", \"mouse\",\n",
    "    \"remote\", \"keyboard\", \"cell phone\", \"book\", \"clock\",\n",
    "    \"vase\", \"scissors\", \"teddy bear\", \"hair drier\", \"toothbrush\",\n",
    "    \"wine glass\", \"cup\", \"fork\", \"knife\", \"spoon\", \"bowl\"\n",
    "]\n",
    "\n",
    "\n",
    "VOC_COCO_CLASS_NAMES = {}\n",
    "# Used for the original dataset benchmark\n",
    "VOC_COCO_CLASS_NAMES[\"TOWOD\"] = tuple(itertools.chain(VOC_CLASS_NAMES, T2_CLASS_NAMES, T3_CLASS_NAMES, T4_CLASS_NAMES, UNK_CLASS))\n",
    "\n",
    "\n",
    "def load_voc_instances(dirname: str, split: str, class_names: Union[List[str], Tuple[str, ...]]):\n",
    "    \"\"\"\n",
    "    Load Pascal VOC detection annotations to Detectron2 format.\n",
    "    Args:\n",
    "        dirname: Contain \"Annotations\", \"ImageSets\", \"JPEGImages\"\n",
    "        split (str): one of \"train\", \"test\", \"val\", \"trainval\"\n",
    "        class_names: list or tuple of class names\n",
    "    \"\"\"\n",
    "    with PathManager.open(os.path.join(dirname, \"ImageSets\", \"Main\", split + \".txt\")) as f:\n",
    "        fileids = np.loadtxt(f, dtype=str)\n",
    "    annotation_dirname = PathManager.get_local_path(os.path.join(dirname, \"Annotations/\"))\n",
    "    class_counts = defaultdict(int)\n",
    "    for fileid in fileids:\n",
    "        anno_file = os.path.join(annotation_dirname, fileid + \".xml\")\n",
    "        jpeg_file = os.path.join(dirname, \"JPEGImages\", fileid + \".jpg\")\n",
    "        with PathManager.open(anno_file) as f:\n",
    "            tree = ET.parse(f)\n",
    "        r = {\n",
    "            \"file_name\": jpeg_file,\n",
    "            \"image_id\": fileid,\n",
    "            \"height\": int(tree.findall(\"./size/height\")[0].text),\n",
    "            \"width\": int(tree.findall(\"./size/width\")[0].text),\n",
    "        }\n",
    "        for obj in tree.findall(\"object\"):\n",
    "            cls = obj.find(\"name\").text\n",
    "            if cls in VOC_CLASS_NAMES_COCOFIED:\n",
    "                cls = BASE_VOC_CLASS_NAMES[VOC_CLASS_NAMES_COCOFIED.index(cls)]\n",
    "            class_counts[str(class_names.index(cls))] += 1\n",
    "    return class_counts"
   ]
  },
  {
   "cell_type": "code",
   "execution_count": 22,
   "id": "1a2ca224-28dc-4b94-849f-31e92c3f4520",
   "metadata": {
    "tags": []
   },
   "outputs": [],
   "source": [
    "cc = load_voc_instances(dirname=\"../PROB/data/VOC2007\", split=\"train\",\n",
    "                  class_names=VOC_COCO_CLASS_NAMES[\"TOWOD\"])"
   ]
  },
  {
   "cell_type": "code",
   "execution_count": 23,
   "id": "60a72ef6-d0c0-482a-b105-7af12284617e",
   "metadata": {
    "tags": []
   },
   "outputs": [
    {
     "data": {
      "text/plain": [
       "defaultdict(int,\n",
       "            {'8': 4338,\n",
       "             '6': 4008,\n",
       "             '12': 1156,\n",
       "             '14': 15576,\n",
       "             '1': 1208,\n",
       "             '7': 1616,\n",
       "             '11': 2079,\n",
       "             '18': 984,\n",
       "             '0': 1285,\n",
       "             '10': 1057,\n",
       "             '19': 1193,\n",
       "             '2': 1820,\n",
       "             '4': 2116,\n",
       "             '13': 1141,\n",
       "             '15': 1724,\n",
       "             '3': 1397,\n",
       "             '17': 1211,\n",
       "             '16': 1347,\n",
       "             '9': 1058,\n",
       "             '5': 909})"
      ]
     },
     "execution_count": 23,
     "metadata": {},
     "output_type": "execute_result"
    }
   ],
   "source": [
    "cc"
   ]
  },
  {
   "cell_type": "code",
   "execution_count": 43,
   "id": "d112c091-736e-4733-a860-692eb1853562",
   "metadata": {
    "tags": []
   },
   "outputs": [
    {
     "data": {
      "text/plain": [
       "<AxesSubplot:>"
      ]
     },
     "execution_count": 43,
     "metadata": {},
     "output_type": "execute_result"
    },
    {
     "data": {
      "image/png": "[encoded data removed]",
      "text/plain": [
       "<Figure size 640x480 with 1 Axes>"
      ]
     },
     "metadata": {},
     "output_type": "display_data"
    }
   ],
   "source": [
    "keys = list(cc.keys())\n",
    "vals = [cc[k] for k in keys]\n",
    "sns.barplot(x=keys, y=vals)"
   ]
  },
  {
   "cell_type": "code",
   "execution_count": 45,
   "id": "a9f037a1-ec9c-4fb2-b46c-03d4b3747a04",
   "metadata": {
    "tags": []
   },
   "outputs": [
    {
     "data": {
      "text/plain": [
       "defaultdict(int,\n",
       "            {'aeroplane': 1285,\n",
       "             'bicycle': 1208,\n",
       "             'bird': 1820,\n",
       "             'boat': 1397,\n",
       "             'bottle': 2116,\n",
       "             'bus': 909,\n",
       "             'car': 4008,\n",
       "             'cat': 1616,\n",
       "             'chair': 4338,\n",
       "             'cow': 1058,\n",
       "             'diningtable': 1057,\n",
       "             'dog': 2079,\n",
       "             'horse': 1156,\n",
       "             'motorbike': 1141,\n",
       "             'person': 15576,\n",
       "             'pottedplant': 1724,\n",
       "             'sheep': 1347,\n",
       "             'sofa': 1211,\n",
       "             'train': 984,\n",
       "             'tvmonitor': 1193})"
      ]
     },
     "execution_count": 45,
     "metadata": {},
     "output_type": "execute_result"
    }
   ],
   "source": [
    "VOC_COCO_CLASS_NAMES[\"TOWOD\"][:20]\n",
    "name_count = defaultdict(int)\n",
    "for k, v in sorted_dict.items():\n",
    "    name_count[VOC_COCO_CLASS_NAMES[\"TOWOD\"][int(k)]] = v\n",
    "name_count"
   ]
  },
  {
   "cell_type": "code",
   "execution_count": 46,
   "id": "8e1f8b9c-567b-4030-b575-122e059e3e6c",
   "metadata": {
    "tags": []
   },
   "outputs": [],
   "source": [
    "total = 0\n",
    "for k, v in cc.items():\n",
    "    total += v"
   ]
  },
  {
   "cell_type": "code",
   "execution_count": 48,
   "id": "6d35ae4b-96c2-4eae-8878-1132f50d7596",
   "metadata": {
    "tags": []
   },
   "outputs": [
    {
     "data": {
      "text/plain": [
       "47223"
      ]
     },
     "execution_count": 48,
     "metadata": {},
     "output_type": "execute_result"
    }
   ],
   "source": [
    "total"
   ]
  },
  {
   "cell_type": "code",
   "execution_count": 49,
   "id": "d375ecaf-3c9c-4ed6-af4a-339e149ce1eb",
   "metadata": {
    "tags": []
   },
   "outputs": [
    {
     "data": {
      "text/plain": [
       "0.32983927323549966"
      ]
     },
     "execution_count": 49,
     "metadata": {},
     "output_type": "execute_result"
    }
   ],
   "source": [
    "cc['14'] / total"
   ]
  },
  {
   "cell_type": "code",
   "execution_count": null,
   "id": "80e21160-bcbe-403d-8ce6-9435209c8548",
   "metadata": {},
   "outputs": [],
   "source": []
  }
 ],
 "metadata": {
  "kernelspec": {
   "display_name": "Python 3 (ipykernel)",
   "language": "python",
   "name": "python3"
  },
  "language_info": {
   "codemirror_mode": {
    "name": "ipython",
    "version": 3
   },
   "file_extension": ".py",
   "mimetype": "text/x-python",
   "name": "python",
   "nbconvert_exporter": "python",
   "pygments_lexer": "ipython3",
   "version": "3.7.15"
  }
 },
 "nbformat": 4,
 "nbformat_minor": 5
}
