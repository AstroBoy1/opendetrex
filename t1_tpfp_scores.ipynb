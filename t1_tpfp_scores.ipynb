{
 "cells": [
  {
   "cell_type": "code",
   "execution_count": 1,
   "id": "30b934f0-01f2-4275-88b3-888aa918e6cf",
   "metadata": {
    "tags": []
   },
   "outputs": [],
   "source": [
    "import pandas as pd"
   ]
  },
  {
   "cell_type": "code",
   "execution_count": 2,
   "id": "4772bd50-ed94-4aa3-8812-a7428df68333",
   "metadata": {
    "tags": []
   },
   "outputs": [],
   "source": [
    "df = pd.read_csv(\"t1_tpfp_scores.csv\")"
   ]
  },
  {
   "cell_type": "code",
   "execution_count": 3,
   "id": "277971c0-9f78-48ef-9813-18bdbe857fcd",
   "metadata": {
    "tags": []
   },
   "outputs": [
    {
     "data": {
      "text/html": [
       "<div>\n",
       "<style scoped>\n",
       "    .dataframe tbody tr th:only-of-type {\n",
       "        vertical-align: middle;\n",
       "    }\n",
       "\n",
       "    .dataframe tbody tr th {\n",
       "        vertical-align: top;\n",
       "    }\n",
       "\n",
       "    .dataframe thead th {\n",
       "        text-align: right;\n",
       "    }\n",
       "</style>\n",
       "<table border=\"1\" class=\"dataframe\">\n",
       "  <thead>\n",
       "    <tr style=\"text-align: right;\">\n",
       "      <th></th>\n",
       "      <th>Unnamed: 0</th>\n",
       "      <th>classes</th>\n",
       "      <th>probs</th>\n",
       "      <th>tp</th>\n",
       "    </tr>\n",
       "  </thead>\n",
       "  <tbody>\n",
       "    <tr>\n",
       "      <th>0</th>\n",
       "      <td>0</td>\n",
       "      <td>aeroplane</td>\n",
       "      <td>0.951</td>\n",
       "      <td>True</td>\n",
       "    </tr>\n",
       "    <tr>\n",
       "      <th>1</th>\n",
       "      <td>1</td>\n",
       "      <td>aeroplane</td>\n",
       "      <td>0.949</td>\n",
       "      <td>True</td>\n",
       "    </tr>\n",
       "    <tr>\n",
       "      <th>2</th>\n",
       "      <td>2</td>\n",
       "      <td>aeroplane</td>\n",
       "      <td>0.947</td>\n",
       "      <td>True</td>\n",
       "    </tr>\n",
       "    <tr>\n",
       "      <th>3</th>\n",
       "      <td>3</td>\n",
       "      <td>aeroplane</td>\n",
       "      <td>0.946</td>\n",
       "      <td>True</td>\n",
       "    </tr>\n",
       "    <tr>\n",
       "      <th>4</th>\n",
       "      <td>4</td>\n",
       "      <td>aeroplane</td>\n",
       "      <td>0.943</td>\n",
       "      <td>True</td>\n",
       "    </tr>\n",
       "  </tbody>\n",
       "</table>\n",
       "</div>"
      ],
      "text/plain": [
       "   Unnamed: 0    classes  probs    tp\n",
       "0           0  aeroplane  0.951  True\n",
       "1           1  aeroplane  0.949  True\n",
       "2           2  aeroplane  0.947  True\n",
       "3           3  aeroplane  0.946  True\n",
       "4           4  aeroplane  0.943  True"
      ]
     },
     "execution_count": 3,
     "metadata": {},
     "output_type": "execute_result"
    }
   ],
   "source": [
    "df.head()"
   ]
  },
  {
   "cell_type": "code",
   "execution_count": 7,
   "id": "141bf97f-5b70-4402-9b6e-73659acb2d7e",
   "metadata": {
    "tags": []
   },
   "outputs": [],
   "source": [
    "thresholds = [x * 0.1 for x in range(10)]"
   ]
  },
  {
   "cell_type": "code",
   "execution_count": 54,
   "id": "ef481388-ee83-4f75-9631-2d57ae8ceaab",
   "metadata": {
    "tags": []
   },
   "outputs": [],
   "source": [
    "def fscore(thresh, df_view, num_positive=10000):\n",
    "    total = df_view.loc[df[\"probs\"] >= thresh]\n",
    "    precision = len(total.loc[total[\"tp\"] == True]) / len(total)\n",
    "    recall = len(total.loc[total[\"tp\"] == True]) / num_positive\n",
    "    return (precision * recall) / (precision + recall)"
   ]
  },
  {
   "cell_type": "code",
   "execution_count": 57,
   "id": "cc113154-40ce-4904-883c-03d73a59f17c",
   "metadata": {
    "tags": []
   },
   "outputs": [
    {
     "name": "stdout",
     "output_type": "stream",
     "text": [
      "tvmonitor\n",
      "best thresh 0.2\n",
      "best score 0.09540260430507574 \n",
      "\n",
      "dog\n",
      "best thresh 0.30000000000000004\n",
      "best score 0.16438356164383564 \n",
      "\n",
      "diningtable\n",
      "best thresh 0.2\n",
      "best score 0.06871739521496673 \n",
      "\n",
      "pottedplant\n",
      "best thresh 0.2\n",
      "best score 0.11385723860589811 \n",
      "\n",
      "cat\n",
      "best thresh 0.30000000000000004\n",
      "best score 0.1344789262203984 \n",
      "\n",
      "sheep\n",
      "best thresh 0.2\n",
      "best score 0.09178021978021979 \n",
      "\n",
      "motorbike\n",
      "best thresh 0.2\n",
      "best score 0.08976207642393655 \n",
      "\n",
      "person\n",
      "best thresh 0.4\n",
      "best score 0.5333595319186097 \n",
      "\n",
      "train\n",
      "best thresh 0.2\n",
      "best score 0.08226291336430719 \n",
      "\n",
      "car\n",
      "best thresh 0.30000000000000004\n",
      "best score 0.229098330782127 \n",
      "\n",
      "horse\n",
      "best thresh 0.2\n",
      "best score 0.0931883537023724 \n",
      "\n",
      "sofa\n",
      "best thresh 0.2\n",
      "best score 0.0694980694980695 \n",
      "\n",
      "aeroplane\n",
      "best thresh 0.30000000000000004\n",
      "best score 0.10160093014936053 \n",
      "\n",
      "cow\n",
      "best thresh 0.2\n",
      "best score 0.07494549418604651 \n",
      "\n",
      "boat\n",
      "best thresh 0.2\n",
      "best score 0.09353566529492456 \n",
      "\n",
      "bird\n",
      "best thresh 0.2\n",
      "best score 0.13397332427151473 \n",
      "\n",
      "chair\n",
      "best thresh 0.30000000000000004\n",
      "best score 0.1996244836650394 \n",
      "\n",
      "bicycle\n",
      "best thresh 0.30000000000000004\n",
      "best score 0.09039095199928757 \n",
      "\n",
      "bottle\n",
      "best thresh 0.2\n",
      "best score 0.13855911530330134 \n",
      "\n",
      "bus\n",
      "best thresh 0.1\n",
      "best score 0.07168079096045198 \n",
      "\n"
     ]
    }
   ],
   "source": [
    "for class_name in set(df.classes.values):\n",
    "    print(class_name)\n",
    "    df_view = df.loc[df[\"classes\"] == class_name]\n",
    "    best_thresh = thresholds[1]\n",
    "    best_score = 0\n",
    "    for thresh in thresholds[1:]:\n",
    "        score = fscore(thresh, df_view)\n",
    "        if score >= best_score:\n",
    "            best_score = score\n",
    "            best_thresh = thresh\n",
    "    print(\"best thresh\", best_thresh)\n",
    "    print(\"best score\", best_score, \"\\n\")"
   ]
  },
  {
   "cell_type": "code",
   "execution_count": null,
   "id": "8e97bf3c-30a0-44ff-a603-7d437a12cf9e",
   "metadata": {},
   "outputs": [],
   "source": []
  }
 ],
 "metadata": {
  "kernelspec": {
   "display_name": "Python 3 (ipykernel)",
   "language": "python",
   "name": "python3"
  },
  "language_info": {
   "codemirror_mode": {
    "name": "ipython",
    "version": 3
   },
   "file_extension": ".py",
   "mimetype": "text/x-python",
   "name": "python",
   "nbconvert_exporter": "python",
   "pygments_lexer": "ipython3",
   "version": "3.7.15"
  }
 },
 "nbformat": 4,
 "nbformat_minor": 5
}
