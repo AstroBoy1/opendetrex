{
 "cells": [
  {
   "cell_type": "code",
   "execution_count": 1,
   "id": "96277a2c-ab06-4fb3-9cad-aea7c91aa8f1",
   "metadata": {
    "tags": []
   },
   "outputs": [],
   "source": [
    "import pickle\n",
    "from collections import defaultdict\n",
    "import numpy as np"
   ]
  },
  {
   "cell_type": "code",
   "execution_count": 2,
   "id": "1001231a-46eb-4fb1-b43f-44217d7a18ff",
   "metadata": {
    "tags": []
   },
   "outputs": [],
   "source": [
    "t1_classes = [\"aeroplane\", \"bicycle\", \"bird\", \"boat\", \"bottle\", \"bus\", \"car\", \"cat\", \"chair\", \"cow\",\n",
    "              \"diningtable\", \"dog\", \"horse\", \"motorbike\", \"person\", \"pottedplant\", \"sheep\", \"sofa\",\n",
    "              \"train\", \"tvmonitor\"]"
   ]
  },
  {
   "cell_type": "code",
   "execution_count": 3,
   "id": "dd7aa62b-c784-4c0a-a4df-30ece6f0d0bf",
   "metadata": {
    "tags": []
   },
   "outputs": [
    {
     "name": "stdout",
     "output_type": "stream",
     "text": [
      "aeroplane\n",
      "bicycle\n",
      "bird\n",
      "boat\n",
      "bottle\n",
      "bus\n",
      "car\n",
      "cat\n",
      "chair\n",
      "cow\n",
      "diningtable\n",
      "dog\n",
      "horse\n",
      "motorbike\n",
      "person\n",
      "pottedplant\n",
      "sheep\n",
      "sofa\n",
      "train\n",
      "tvmonitor\n"
     ]
    }
   ],
   "source": [
    "image_box_hash = defaultdict(list)\n",
    "image_score_hash = defaultdict(list)\n",
    "image_class_hash = defaultdict(list)\n",
    "\n",
    "for class_name in t1_classes:\n",
    "    print(class_name)\n",
    "    with open(\"pseudolabels/t2/known_f1/boxes_{}.pickle\".format(class_name), \"rb\") as fp:\n",
    "        box_hash = pickle.load(fp)\n",
    "        for k, v in box_hash.items():\n",
    "            image_box_hash[k].append(v)\n",
    "    with open(\"pseudolabels/t2/known_f1/scores_{}.pickle\".format(class_name), \"rb\") as fp:\n",
    "        score_hash = pickle.load(fp)\n",
    "        for k, v in score_hash.items():\n",
    "            image_score_hash[k].append(v)\n",
    "            image_class_hash[k].append(class_name)"
   ]
  },
  {
   "cell_type": "code",
   "execution_count": null,
   "id": "77785c73-f2fd-45bd-9b01-c63728f5771d",
   "metadata": {},
   "outputs": [],
   "source": []
  }
 ],
 "metadata": {
  "kernelspec": {
   "display_name": "Python 3 (ipykernel)",
   "language": "python",
   "name": "python3"
  },
  "language_info": {
   "codemirror_mode": {
    "name": "ipython",
    "version": 3
   },
   "file_extension": ".py",
   "mimetype": "text/x-python",
   "name": "python",
   "nbconvert_exporter": "python",
   "pygments_lexer": "ipython3",
   "version": "3.7.15"
  }
 },
 "nbformat": 4,
 "nbformat_minor": 5
}
