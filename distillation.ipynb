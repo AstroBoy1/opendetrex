{
 "cells": [
  {
   "cell_type": "code",
   "execution_count": 22,
   "id": "993f43f1-0b5f-46a7-9b09-99bd6ca876fd",
   "metadata": {
    "tags": []
   },
   "outputs": [],
   "source": [
    "import pickle\n",
    "from collections import defaultdict\n",
    "import numpy as np"
   ]
  },
  {
   "cell_type": "code",
   "execution_count": 3,
   "id": "079683b0-8674-4125-947f-f4c682af8d88",
   "metadata": {
    "tags": []
   },
   "outputs": [],
   "source": [
    "t1_classes = [\"aeroplane\", \"bicycle\", \"bird\", \"boat\", \"bottle\", \"bus\", \"car\", \"cat\", \"chair\", \"cow\",\n",
    "              \"diningtable\", \"dog\", \"horse\", \"motorbike\", \"person\", \"pottedplant\", \"sheep\", \"sofa\",\n",
    "              \"train\", \"tvmonitor\"]"
   ]
  },
  {
   "cell_type": "markdown",
   "id": "9e0d4bb6-31c0-4b39-a7bc-1aa1f012ef6d",
   "metadata": {},
   "source": [
    "used t2 tp, but should use t1"
   ]
  },
  {
   "cell_type": "code",
   "execution_count": 17,
   "id": "b0028e57-9017-4809-ad68-bfddfe00ad8e",
   "metadata": {
    "tags": []
   },
   "outputs": [
    {
     "name": "stdout",
     "output_type": "stream",
     "text": [
      "aeroplane\n",
      "bicycle\n",
      "bird\n",
      "boat\n",
      "bottle\n",
      "bus\n",
      "car\n",
      "cat\n",
      "chair\n",
      "cow\n",
      "diningtable\n",
      "dog\n",
      "horse\n",
      "motorbike\n",
      "person\n",
      "pottedplant\n",
      "sheep\n",
      "sofa\n",
      "train\n",
      "tvmonitor\n"
     ]
    }
   ],
   "source": [
    "image_box_hash = defaultdict(list)\n",
    "image_score_hash = defaultdict(list)\n",
    "image_class_hash = defaultdict(list)\n",
    "image_tp_hash = defaultdict(list)\n",
    "\n",
    "for class_name in t1_classes:\n",
    "    print(class_name)\n",
    "    with open(\"pseudolabels/t2/known/boxes_{}.pickle\".format(class_name), \"rb\") as fp:\n",
    "        box_hash = pickle.load(fp)\n",
    "        for k, v in box_hash.items():\n",
    "            image_box_hash[k].append(v)\n",
    "    with open(\"pseudolabels/t2/known/scores_{}.pickle\".format(class_name), \"rb\") as fp:\n",
    "        score_hash = pickle.load(fp)\n",
    "        for k, v in score_hash.items():\n",
    "            image_score_hash[k].append(v)\n",
    "            image_class_hash[k].append(class_name)\n",
    "    with open(\"pseudolabels/t2/known/tpscores_{}.pickle\".format(class_name), \"rb\") as fp:\n",
    "        scores = pickle.load(fp)\n",
    "        image_tp_hash[class_name] = scores"
   ]
  },
  {
   "cell_type": "code",
   "execution_count": 27,
   "id": "4001f933-b00f-4b0d-8991-7457238f7678",
   "metadata": {
    "tags": []
   },
   "outputs": [
    {
     "name": "stdout",
     "output_type": "stream",
     "text": [
      "aeroplane\n",
      "bicycle 0.762\n",
      "bird 0.796\n",
      "boat 0.2985\n",
      "bottle 0.2195\n",
      "bus 0.844\n",
      "car 0.7435\n",
      "cat 0.94\n",
      "chair 0.332\n",
      "cow 0.6365000000000001\n",
      "diningtable\n",
      "dog 0.864\n",
      "horse 0.835\n",
      "motorbike\n",
      "person 0.89\n",
      "pottedplant\n",
      "sheep 0.5874999999999999\n",
      "sofa\n",
      "train 0.7645\n",
      "tvmonitor\n"
     ]
    }
   ],
   "source": [
    "for k, v in image_tp_hash.items():\n",
    "    try:\n",
    "        print(k, np.percentile(v, 50))\n",
    "    except:\n",
    "        print(k)"
   ]
  },
  {
   "cell_type": "code",
   "execution_count": 37,
   "id": "9d705df9-0c66-4cc0-8312-824365ba6967",
   "metadata": {
    "tags": []
   },
   "outputs": [
    {
     "name": "stdout",
     "output_type": "stream",
     "text": [
      "[[0.939, 0.093, 0.091, 0.059, 0.048, 0.047, 0.046, 0.044, 0.041, 0.039, 0.035, 0.034, 0.033, 0.032, 0.031, 0.031, 0.03, 0.03, 0.03, 0.029, 0.028, 0.027, 0.026, 0.025, 0.025, 0.025, 0.024, 0.024, 0.023, 0.023, 0.023, 0.023, 0.023, 0.022, 0.022, 0.022, 0.022, 0.022, 0.022, 0.021, 0.02, 0.02, 0.02, 0.02, 0.02, 0.02, 0.019, 0.019, 0.019, 0.018, 0.018, 0.018, 0.017, 0.017, 0.017, 0.017, 0.016, 0.014, 0.014, 0.013, 0.013, 0.013, 0.012, 0.012, 0.012, 0.011, 0.011, 0.01, 0.01, 0.01, 0.01, 0.01], [0.031, 0.026, 0.019, 0.019, 0.017, 0.015, 0.014, 0.013, 0.012, 0.011, 0.011, 0.011, 0.01, 0.01, 0.01, 0.01, 0.01, 0.009], [0.037, 0.018, 0.017, 0.015, 0.014, 0.014, 0.014, 0.014, 0.011, 0.011, 0.011, 0.011, 0.01, 0.01, 0.009], [0.024, 0.02, 0.018, 0.017, 0.016, 0.015, 0.013, 0.012, 0.012, 0.011, 0.011, 0.011, 0.011, 0.01, 0.01, 0.01, 0.01], [0.016, 0.01, 0.01], [0.026, 0.024, 0.021, 0.014, 0.014, 0.013, 0.012, 0.01, 0.01, 0.009, 0.009], [0.037, 0.035, 0.032, 0.027, 0.024, 0.023, 0.021, 0.02, 0.02, 0.02, 0.02, 0.019, 0.019, 0.017, 0.017, 0.017, 0.017, 0.016, 0.016, 0.016, 0.015, 0.015, 0.015, 0.014, 0.014, 0.013, 0.013, 0.012, 0.011, 0.011, 0.011, 0.011, 0.01, 0.01, 0.01, 0.01, 0.01, 0.01], [0.013, 0.011], [0.015, 0.015, 0.014, 0.011, 0.01, 0.009], [0.034, 0.023, 0.022, 0.019, 0.018, 0.016, 0.015, 0.015, 0.011, 0.011, 0.01, 0.01, 0.009], [0.019, 0.015, 0.015, 0.014, 0.013, 0.012, 0.012, 0.011, 0.011, 0.01, 0.01, 0.01, 0.01], [0.019, 0.01, 0.01, 0.01], [0.017, 0.013, 0.013, 0.012, 0.011, 0.011, 0.011, 0.011, 0.011], [0.517, 0.047, 0.046, 0.037, 0.035, 0.033, 0.031, 0.026, 0.026, 0.025, 0.024, 0.024, 0.019, 0.018, 0.018, 0.018, 0.017, 0.017, 0.017, 0.014, 0.014, 0.014, 0.013, 0.012, 0.012, 0.012, 0.011, 0.011, 0.011, 0.011, 0.011, 0.01, 0.01, 0.01, 0.01, 0.01, 0.01, 0.01, 0.01, 0.009, 0.009], [0.015, 0.014, 0.014, 0.01], [0.027, 0.022, 0.017, 0.016, 0.015, 0.014, 0.014, 0.012, 0.012, 0.012, 0.011, 0.011, 0.011, 0.01], [0.011]]\n",
      "['aeroplane', 'bicycle', 'bird', 'boat', 'bottle', 'bus', 'car', 'cat', 'chair', 'cow', 'dog', 'horse', 'motorbike', 'person', 'pottedplant', 'sheep', 'train']\n"
     ]
    }
   ],
   "source": [
    "pseudo_image_box_hash = defaultdict(list)\n",
    "pseudo_image_class_hash = defaultdict(list)\n",
    "\n",
    "for k, v in image_box_hash.items():\n",
    "    print(image_score_hash[k])\n",
    "    print(image_class_hash[k])\n",
    "    break"
   ]
  },
  {
   "cell_type": "code",
   "execution_count": null,
   "id": "d1572d57-c97f-4168-b043-c8ac74ca0a54",
   "metadata": {},
   "outputs": [],
   "source": []
  }
 ],
 "metadata": {
  "kernelspec": {
   "display_name": "Python 3 (ipykernel)",
   "language": "python",
   "name": "python3"
  },
  "language_info": {
   "codemirror_mode": {
    "name": "ipython",
    "version": 3
   },
   "file_extension": ".py",
   "mimetype": "text/x-python",
   "name": "python",
   "nbconvert_exporter": "python",
   "pygments_lexer": "ipython3",
   "version": "3.7.15"
  }
 },
 "nbformat": 4,
 "nbformat_minor": 5
}
